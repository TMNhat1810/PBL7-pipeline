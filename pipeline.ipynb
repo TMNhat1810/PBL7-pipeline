{
 "cells": [
  {
   "cell_type": "code",
   "execution_count": 1,
   "metadata": {},
   "outputs": [
    {
     "name": "stdout",
     "output_type": "stream",
     "text": [
      "WARNING:tensorflow:From C:\\Users\\minhn\\AppData\\Local\\Packages\\PythonSoftwareFoundation.Python.3.10_qbz5n2kfra8p0\\LocalCache\\local-packages\\Python310\\site-packages\\keras\\src\\losses.py:2976: The name tf.losses.sparse_softmax_cross_entropy is deprecated. Please use tf.compat.v1.losses.sparse_softmax_cross_entropy instead.\n",
      "\n"
     ]
    },
    {
     "name": "stderr",
     "output_type": "stream",
     "text": [
      "C:\\Users\\minhn\\AppData\\Local\\Packages\\PythonSoftwareFoundation.Python.3.10_qbz5n2kfra8p0\\LocalCache\\local-packages\\Python310\\site-packages\\huggingface_hub\\file_download.py:1132: FutureWarning: `resume_download` is deprecated and will be removed in version 1.0.0. Downloads always resume when possible. If you want to force a new download, use `force_download=True`.\n",
      "  warnings.warn(\n"
     ]
    },
    {
     "name": "stdout",
     "output_type": "stream",
     "text": [
      "WARNING:tensorflow:From C:\\Users\\minhn\\AppData\\Local\\Packages\\PythonSoftwareFoundation.Python.3.10_qbz5n2kfra8p0\\LocalCache\\local-packages\\Python310\\site-packages\\tf_keras\\src\\backend.py:873: The name tf.get_default_graph is deprecated. Please use tf.compat.v1.get_default_graph instead.\n",
      "\n"
     ]
    },
    {
     "name": "stderr",
     "output_type": "stream",
     "text": [
      "All model checkpoint layers were used when initializing TFT5ForConditionalGeneration.\n",
      "\n",
      "All the layers of TFT5ForConditionalGeneration were initialized from the model checkpoint at ./model/model_finetuned.\n",
      "If your task is similar to the task the model of the checkpoint was trained on, you can already use TFT5ForConditionalGeneration for predictions without further training.\n"
     ]
    }
   ],
   "source": [
    "from utils.crawl import crawl, merge_data\n",
    "from utils.batch_predict import get_new_data, predict\n",
    "from utils.import_db import apply_convert, import_db, back_up_data\n",
    "\n",
    "import datetime\n",
    "import uuid"
   ]
  },
  {
   "cell_type": "code",
   "execution_count": 2,
   "metadata": {},
   "outputs": [],
   "source": [
    "crawl('social', datetime.date(2024, 6, 2)) # crawl vtv data\n"
   ]
  },
  {
   "cell_type": "code",
   "execution_count": 3,
   "metadata": {},
   "outputs": [],
   "source": [
    "merge_data() # gộp data"
   ]
  },
  {
   "cell_type": "code",
   "execution_count": 12,
   "metadata": {},
   "outputs": [],
   "source": [
    "new_data = get_new_data() # lấy data mới"
   ]
  },
  {
   "cell_type": "code",
   "execution_count": 13,
   "metadata": {},
   "outputs": [
    {
     "data": {
      "text/html": [
       "<div>\n",
       "<style scoped>\n",
       "    .dataframe tbody tr th:only-of-type {\n",
       "        vertical-align: middle;\n",
       "    }\n",
       "\n",
       "    .dataframe tbody tr th {\n",
       "        vertical-align: top;\n",
       "    }\n",
       "\n",
       "    .dataframe thead th {\n",
       "        text-align: right;\n",
       "    }\n",
       "</style>\n",
       "<table border=\"1\" class=\"dataframe\">\n",
       "  <thead>\n",
       "    <tr style=\"text-align: right;\">\n",
       "      <th></th>\n",
       "      <th>Title</th>\n",
       "      <th>Content</th>\n",
       "      <th>Summary</th>\n",
       "      <th>Date</th>\n",
       "      <th>Url</th>\n",
       "      <th>Categorical</th>\n",
       "    </tr>\n",
       "  </thead>\n",
       "  <tbody>\n",
       "    <tr>\n",
       "      <th>0</th>\n",
       "      <td>Xử lý tái lấn chiếm mặt bằng dự án kênh Tham L...</td>\n",
       "      <td>Dự án cải tạo kênh Tham Lương Dự án cải tạo kê...</td>\n",
       "      <td>Dự án cải tạo kênh Tham Lương Bến Cát được tri...</td>\n",
       "      <td>02/06/2024</td>\n",
       "      <td>https://vtv.vn/xa-hoi/xu-ly-tai-lan-chiem-mat-...</td>\n",
       "      <td>social</td>\n",
       "    </tr>\n",
       "    <tr>\n",
       "      <th>1</th>\n",
       "      <td>Thủ tướng kiểm tra hiện trường, đôn đốc 2 công...</td>\n",
       "      <td>Thủ tướng Phạm Minh Chính đã tới kiểm tra, đốc...</td>\n",
       "      <td>Thủ tướng Phạm Minh Chính đã tới kiểm tra, đốc...</td>\n",
       "      <td>02/06/2024</td>\n",
       "      <td>https://vtv.vn/xa-hoi/thu-tuong-kiem-tra-hien-...</td>\n",
       "      <td>social</td>\n",
       "    </tr>\n",
       "    <tr>\n",
       "      <th>2</th>\n",
       "      <td>Hỗ trợ có điều kiện để thúc đẩy an cư</td>\n",
       "      <td>Việc chuyển từ chính sách cho không sang hỗ tr...</td>\n",
       "      <td>Việc chuyển từ chính sách cho không sang hỗ tr...</td>\n",
       "      <td>02/06/2024</td>\n",
       "      <td>https://vtv.vn/xa-hoi/ho-tro-co-dieu-kien-de-t...</td>\n",
       "      <td>social</td>\n",
       "    </tr>\n",
       "    <tr>\n",
       "      <th>3</th>\n",
       "      <td>Giải cứu người đàn ông mắc kẹt giữa 2 bức tường</td>\n",
       "      <td>Một người đàn ông bị mắc kẹt giữa khe tường 2 ...</td>\n",
       "      <td>Một người đàn ông bị mắc kẹt giữa khe tường 2 ...</td>\n",
       "      <td>02/06/2024</td>\n",
       "      <td>https://vtv.vn/xa-hoi/giai-cuu-nguoi-dan-ong-m...</td>\n",
       "      <td>social</td>\n",
       "    </tr>\n",
       "    <tr>\n",
       "      <th>4</th>\n",
       "      <td>Chủ tịch UBND TP Móng Cái Hồ Quang Huy bị kỷ l...</td>\n",
       "      <td>Ông Hồ Quang Huy Ngày 1/6, Ủy ban kiểm tra Tỉn...</td>\n",
       "      <td>Ông Hồ Quang Huy Chủ tịch UBND TP Móng Cái, tỉ...</td>\n",
       "      <td>02/06/2024</td>\n",
       "      <td>https://vtv.vn/xa-hoi/chu-tich-ubnd-tp-mong-ca...</td>\n",
       "      <td>social</td>\n",
       "    </tr>\n",
       "    <tr>\n",
       "      <th>5</th>\n",
       "      <td>Hỗ trợ có điều kiện để thúc đẩy an cư vùng dân...</td>\n",
       "      <td>Thay vì \"cho không\", chính sách hỗ trợ từ các ...</td>\n",
       "      <td>Thay vì \"cho không\", chính sách hỗ trợ từ các ...</td>\n",
       "      <td>02/06/2024</td>\n",
       "      <td>https://vtv.vn/xa-hoi/ho-tro-co-dieu-kien-de-t...</td>\n",
       "      <td>social</td>\n",
       "    </tr>\n",
       "    <tr>\n",
       "      <th>6</th>\n",
       "      <td>Liên tiếp xuất hiện nhiều trận động đất ở Việt...</td>\n",
       "      <td>Trong tháng 5, Việt Nam đã ghi nhận 18 trận độ...</td>\n",
       "      <td>Trong tháng 5, Việt Nam đã ghi nhận 18 trận độ...</td>\n",
       "      <td>02/06/2024</td>\n",
       "      <td>https://vtv.vn/xa-hoi/lien-tiep-xuat-hien-nhie...</td>\n",
       "      <td>social</td>\n",
       "    </tr>\n",
       "    <tr>\n",
       "      <th>7</th>\n",
       "      <td>Tăng cường biện phép xử lý vi phạm trong giờ c...</td>\n",
       "      <td>Công an Hà Nội đã thành lập 5 tổ công tác đặc ...</td>\n",
       "      <td>Công an Hà Nội đã thành lập 5 tổ công tác đặc ...</td>\n",
       "      <td>02/06/2024</td>\n",
       "      <td>https://vtv.vn/xa-hoi/tang-cuong-bien-phep-xu-...</td>\n",
       "      <td>social</td>\n",
       "    </tr>\n",
       "    <tr>\n",
       "      <th>8</th>\n",
       "      <td>Nguy hiểm khi chuyển hướng không quan sát</td>\n",
       "      <td>Chú ý quan sát và nhường đường cho các phương ...</td>\n",
       "      <td>Chú ý quan sát và nhường đường cho các phương ...</td>\n",
       "      <td>02/06/2024</td>\n",
       "      <td>https://vtv.vn/xa-hoi/nguy-hiem-khi-chuyen-huo...</td>\n",
       "      <td>social</td>\n",
       "    </tr>\n",
       "    <tr>\n",
       "      <th>9</th>\n",
       "      <td>Chủ động hiến đất vàng mở rộng hẻm</td>\n",
       "      <td>Những con hẻm nhỏ, vốn đã ngoằn nghoèo, giờ đư...</td>\n",
       "      <td>Những con hẻm nhỏ, vốn đã ngoằn nghoèo, giờ đư...</td>\n",
       "      <td>02/06/2024</td>\n",
       "      <td>https://vtv.vn/xa-hoi/chu-dong-hien-dat-vang-m...</td>\n",
       "      <td>social</td>\n",
       "    </tr>\n",
       "    <tr>\n",
       "      <th>10</th>\n",
       "      <td>Long An xuất hiện sụt lún nghiêm trọng sau mưa...</td>\n",
       "      <td>Tỉnh Long An vừa ghi nhận hàng chục điểm sạt l...</td>\n",
       "      <td>Tỉnh Long An vừa ghi nhận hàng chục điểm sạt l...</td>\n",
       "      <td>02/06/2024</td>\n",
       "      <td>https://vtv.vn/xa-hoi/long-an-xuat-hien-sut-lu...</td>\n",
       "      <td>social</td>\n",
       "    </tr>\n",
       "    <tr>\n",
       "      <th>11</th>\n",
       "      <td>Lâm Đồng: Tìm thấy thi thể nữ giới ở hồ Tuyền ...</td>\n",
       "      <td>Công an tỉnh Lâm Đồng cho biết, đơn vị vừa phố...</td>\n",
       "      <td>Công an tỉnh Lâm Đồng cho biết, đơn vị vừa phố...</td>\n",
       "      <td>02/06/2024</td>\n",
       "      <td>https://vtv.vn/xa-hoi/lam-dong-tim-thay-thi-th...</td>\n",
       "      <td>social</td>\n",
       "    </tr>\n",
       "    <tr>\n",
       "      <th>12</th>\n",
       "      <td>Nam thanh niên dựng chuyện trộm cây cảnh đăng ...</td>\n",
       "      <td>Công an quận Hải Châu (TP Đà Nẵng) vừa mời Hồ ...</td>\n",
       "      <td>Công an quận Hải Châu (TP Đà Nẵng) vừa mời Hồ ...</td>\n",
       "      <td>02/06/2024</td>\n",
       "      <td>https://vtv.vn/xa-hoi/nam-thanh-nien-dung-chuy...</td>\n",
       "      <td>social</td>\n",
       "    </tr>\n",
       "    <tr>\n",
       "      <th>13</th>\n",
       "      <td>Hà Nội miễn phí cấp phiếu lý lịch tư pháp trên...</td>\n",
       "      <td>Theo đó, từ ngày 1/6 đến hết ngày 31/12/2024, ...</td>\n",
       "      <td>Theo đó, từ ngày 1/6 đến hết ngày 31/12/2024, ...</td>\n",
       "      <td>02/06/2024</td>\n",
       "      <td>https://vtv.vn/xa-hoi/ha-noi-mien-phi-cap-phie...</td>\n",
       "      <td>social</td>\n",
       "    </tr>\n",
       "    <tr>\n",
       "      <th>14</th>\n",
       "      <td>Thời tiết ngày 2/6: Hà Nội ngày nắng, chiều tố...</td>\n",
       "      <td>Thời tiết ngày 6/2, nhiều khu vực ngày nắng, c...</td>\n",
       "      <td>Thời tiết ngày 6/2, nhiều khu vực ngày nắng, c...</td>\n",
       "      <td>02/06/2024</td>\n",
       "      <td>https://vtv.vn/xa-hoi/thoi-tiet-ngay-2-6-ha-no...</td>\n",
       "      <td>social</td>\n",
       "    </tr>\n",
       "    <tr>\n",
       "      <th>15</th>\n",
       "      <td>Rủi ro từ các dịch vụ thẩm mỹ quảng cáo sai sự...</td>\n",
       "      <td>Nắm được vào tâm lý khách hàng, nhiều cơ sở th...</td>\n",
       "      <td>Nắm được vào tâm lý khách hàng, nhiều cơ sở th...</td>\n",
       "      <td>02/06/2024</td>\n",
       "      <td>https://vtv.vn/xa-hoi/rui-ro-tu-cac-dich-vu-th...</td>\n",
       "      <td>social</td>\n",
       "    </tr>\n",
       "    <tr>\n",
       "      <th>16</th>\n",
       "      <td>Nhiều điểm mới trong dự án Luật Quản lý, sử dụ...</td>\n",
       "      <td>Các cơ quan chức năng đề xuất dao có tính sát ...</td>\n",
       "      <td>Các cơ quan chức năng đề xuất dao có tính sát ...</td>\n",
       "      <td>02/06/2024</td>\n",
       "      <td>https://vtv.vn/xa-hoi/nhieu-diem-moi-trong-du-...</td>\n",
       "      <td>social</td>\n",
       "    </tr>\n",
       "    <tr>\n",
       "      <th>17</th>\n",
       "      <td>TP Hồ Chí Minh: Hàng chục nghìn hộ dân bị cắt ...</td>\n",
       "      <td>Ngành cấp nước sửa, bảo trì thiết bị, máy móc ...</td>\n",
       "      <td>Ngành cấp nước sửa, bảo trì thiết bị, máy móc ...</td>\n",
       "      <td>02/06/2024</td>\n",
       "      <td>https://vtv.vn/xa-hoi/tp-ho-chi-minh-hang-chuc...</td>\n",
       "      <td>social</td>\n",
       "    </tr>\n",
       "    <tr>\n",
       "      <th>18</th>\n",
       "      <td>Phát hiện thi thể thai nhi trong túi nylon đen...</td>\n",
       "      <td>Cơ quan CSĐT Công an quận Thanh Xuân (Hà Nội) ...</td>\n",
       "      <td>Cơ quan CSĐT Công an quận Thanh Xuân (Hà Nội) ...</td>\n",
       "      <td>02/06/2024</td>\n",
       "      <td>https://vtv.vn/xa-hoi/phat-hien-thi-the-thai-n...</td>\n",
       "      <td>social</td>\n",
       "    </tr>\n",
       "    <tr>\n",
       "      <th>19</th>\n",
       "      <td>Xe đầu kéo lật đè lên xe tải, 1 người tử vong</td>\n",
       "      <td>Vụ tai nạn lật xe đầu kéo, đè vào xe tải nhỏ l...</td>\n",
       "      <td>Vụ tai nạn lật xe đầu kéo, đè vào xe tải nhỏ l...</td>\n",
       "      <td>02/06/2024</td>\n",
       "      <td>https://vtv.vn/xa-hoi/xe-dau-keo-lat-de-len-xe...</td>\n",
       "      <td>social</td>\n",
       "    </tr>\n",
       "  </tbody>\n",
       "</table>\n",
       "</div>"
      ],
      "text/plain": [
       "                                                Title  ... Categorical\n",
       "0   Xử lý tái lấn chiếm mặt bằng dự án kênh Tham L...  ...      social\n",
       "1   Thủ tướng kiểm tra hiện trường, đôn đốc 2 công...  ...      social\n",
       "2               Hỗ trợ có điều kiện để thúc đẩy an cư  ...      social\n",
       "3     Giải cứu người đàn ông mắc kẹt giữa 2 bức tường  ...      social\n",
       "4   Chủ tịch UBND TP Móng Cái Hồ Quang Huy bị kỷ l...  ...      social\n",
       "5   Hỗ trợ có điều kiện để thúc đẩy an cư vùng dân...  ...      social\n",
       "6   Liên tiếp xuất hiện nhiều trận động đất ở Việt...  ...      social\n",
       "7   Tăng cường biện phép xử lý vi phạm trong giờ c...  ...      social\n",
       "8           Nguy hiểm khi chuyển hướng không quan sát  ...      social\n",
       "9                  Chủ động hiến đất vàng mở rộng hẻm  ...      social\n",
       "10  Long An xuất hiện sụt lún nghiêm trọng sau mưa...  ...      social\n",
       "11  Lâm Đồng: Tìm thấy thi thể nữ giới ở hồ Tuyền ...  ...      social\n",
       "12  Nam thanh niên dựng chuyện trộm cây cảnh đăng ...  ...      social\n",
       "13  Hà Nội miễn phí cấp phiếu lý lịch tư pháp trên...  ...      social\n",
       "14  Thời tiết ngày 2/6: Hà Nội ngày nắng, chiều tố...  ...      social\n",
       "15  Rủi ro từ các dịch vụ thẩm mỹ quảng cáo sai sự...  ...      social\n",
       "16  Nhiều điểm mới trong dự án Luật Quản lý, sử dụ...  ...      social\n",
       "17  TP Hồ Chí Minh: Hàng chục nghìn hộ dân bị cắt ...  ...      social\n",
       "18  Phát hiện thi thể thai nhi trong túi nylon đen...  ...      social\n",
       "19      Xe đầu kéo lật đè lên xe tải, 1 người tử vong  ...      social\n",
       "\n",
       "[20 rows x 6 columns]"
      ]
     },
     "execution_count": 13,
     "metadata": {},
     "output_type": "execute_result"
    }
   ],
   "source": [
    "new_data"
   ]
  },
  {
   "cell_type": "code",
   "execution_count": 4,
   "metadata": {},
   "outputs": [
    {
     "name": "stderr",
     "output_type": "stream",
     "text": [
      "C:\\Users\\minhn\\AppData\\Local\\Packages\\PythonSoftwareFoundation.Python.3.10_qbz5n2kfra8p0\\LocalCache\\local-packages\\Python310\\site-packages\\transformers\\generation\\tf_utils.py:728: UserWarning: You have modified the pretrained model configuration to control generation. This is a deprecated strategy to control generation and will be removed soon, in a future version. Please use and modify the model generation configuration (see https://huggingface.co/docs/transformers/generation_strategies#default-text-generation-configuration )\n",
      "  warnings.warn(\n"
     ]
    }
   ],
   "source": [
    "preds = predict(new_data)"
   ]
  },
  {
   "cell_type": "code",
   "execution_count": 5,
   "metadata": {},
   "outputs": [
    {
     "data": {
      "text/html": [
       "<div>\n",
       "<style scoped>\n",
       "    .dataframe tbody tr th:only-of-type {\n",
       "        vertical-align: middle;\n",
       "    }\n",
       "\n",
       "    .dataframe tbody tr th {\n",
       "        vertical-align: top;\n",
       "    }\n",
       "\n",
       "    .dataframe thead th {\n",
       "        text-align: right;\n",
       "    }\n",
       "</style>\n",
       "<table border=\"1\" class=\"dataframe\">\n",
       "  <thead>\n",
       "    <tr style=\"text-align: right;\">\n",
       "      <th></th>\n",
       "      <th>Categorical</th>\n",
       "      <th>Date</th>\n",
       "      <th>Url</th>\n",
       "      <th>Pred</th>\n",
       "    </tr>\n",
       "  </thead>\n",
       "  <tbody>\n",
       "    <tr>\n",
       "      <th>0</th>\n",
       "      <td>social</td>\n",
       "      <td>02/06/2024</td>\n",
       "      <td>https://vtv.vn/xa-hoi/co-che-moi-trong-quan-ly...</td>\n",
       "      <td>Luật Tài nguyên nước năm 2023 có nhiều điểm mớ...</td>\n",
       "    </tr>\n",
       "  </tbody>\n",
       "</table>\n",
       "</div>"
      ],
      "text/plain": [
       "  Categorical  ...                                               Pred\n",
       "0      social  ...  Luật Tài nguyên nước năm 2023 có nhiều điểm mớ...\n",
       "\n",
       "[1 rows x 4 columns]"
      ]
     },
     "execution_count": 5,
     "metadata": {},
     "output_type": "execute_result"
    }
   ],
   "source": [
    "preds"
   ]
  },
  {
   "cell_type": "code",
   "execution_count": 6,
   "metadata": {},
   "outputs": [],
   "source": [
    "import_data = apply_convert(preds)"
   ]
  },
  {
   "cell_type": "code",
   "execution_count": 7,
   "metadata": {},
   "outputs": [],
   "source": [
    "uuid_values = [str(uuid.uuid4()) for _ in range(len(import_data))]"
   ]
  },
  {
   "cell_type": "code",
   "execution_count": 8,
   "metadata": {},
   "outputs": [],
   "source": [
    "import_data['id'] = uuid_values"
   ]
  },
  {
   "cell_type": "code",
   "execution_count": 9,
   "metadata": {},
   "outputs": [
    {
     "data": {
      "text/html": [
       "<div>\n",
       "<style scoped>\n",
       "    .dataframe tbody tr th:only-of-type {\n",
       "        vertical-align: middle;\n",
       "    }\n",
       "\n",
       "    .dataframe tbody tr th {\n",
       "        vertical-align: top;\n",
       "    }\n",
       "\n",
       "    .dataframe thead th {\n",
       "        text-align: right;\n",
       "    }\n",
       "</style>\n",
       "<table border=\"1\" class=\"dataframe\">\n",
       "  <thead>\n",
       "    <tr style=\"text-align: right;\">\n",
       "      <th></th>\n",
       "      <th>Categorical</th>\n",
       "      <th>Date</th>\n",
       "      <th>Url</th>\n",
       "      <th>Pred</th>\n",
       "      <th>id</th>\n",
       "    </tr>\n",
       "  </thead>\n",
       "  <tbody>\n",
       "    <tr>\n",
       "      <th>0</th>\n",
       "      <td>clwrok1q800mm7laqw5qctobb</td>\n",
       "      <td>2024-06-02</td>\n",
       "      <td>https://vtv.vn/xa-hoi/co-che-moi-trong-quan-ly...</td>\n",
       "      <td>Luật Tài nguyên nước năm 2023 có nhiều điểm mớ...</td>\n",
       "      <td>4851e65f-5b2f-4de9-9678-6bd714346d2c</td>\n",
       "    </tr>\n",
       "  </tbody>\n",
       "</table>\n",
       "</div>"
      ],
      "text/plain": [
       "                 Categorical  ...                                    id\n",
       "0  clwrok1q800mm7laqw5qctobb  ...  4851e65f-5b2f-4de9-9678-6bd714346d2c\n",
       "\n",
       "[1 rows x 5 columns]"
      ]
     },
     "execution_count": 9,
     "metadata": {},
     "output_type": "execute_result"
    }
   ],
   "source": [
    "import_data"
   ]
  },
  {
   "cell_type": "code",
   "execution_count": 10,
   "metadata": {},
   "outputs": [],
   "source": [
    "import_db(import_data)\n",
    "back_up_data(preds)"
   ]
  }
 ],
 "metadata": {
  "kernelspec": {
   "display_name": "Python 3",
   "language": "python",
   "name": "python3"
  },
  "language_info": {
   "codemirror_mode": {
    "name": "ipython",
    "version": 3
   },
   "file_extension": ".py",
   "mimetype": "text/x-python",
   "name": "python",
   "nbconvert_exporter": "python",
   "pygments_lexer": "ipython3",
   "version": "3.10.11"
  }
 },
 "nbformat": 4,
 "nbformat_minor": 2
}
